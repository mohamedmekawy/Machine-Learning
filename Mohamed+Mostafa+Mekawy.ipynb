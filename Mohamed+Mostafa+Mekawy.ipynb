{
 "cells": [
  {
   "cell_type": "markdown",
   "metadata": {},
   "source": [
    "# Python Crash Course Exercises \n",
    "\n",
    "#### please follow the following instructions :\n",
    "#### 1- write your name in the notebook name \n",
    "#### 2- in every question wirte a coment that describe every single line of the code\n",
    "#### 3- only use what we took in lectures except for bonus questions\n",
    "#### 4- do not ask your friend or search in the internet , answer all questions by yourself\n",
    "### NOTE: using something we didnt take in lectures will not be graded and you will lose the question grade "
   ]
  },
  {
   "cell_type": "markdown",
   "metadata": {},
   "source": [
    "................................................................................................................................................................................................................................................................"
   ]
  },
  {
   "cell_type": "markdown",
   "metadata": {},
   "source": [
    "** What is 7 to the power of 4?**"
   ]
  },
  {
   "cell_type": "code",
   "execution_count": 6,
   "metadata": {},
   "outputs": [
    {
     "name": "stdout",
     "output_type": "stream",
     "text": [
      "2401\n"
     ]
    }
   ],
   "source": [
    "x=7**4\n",
    "print(x)"
   ]
  },
  {
   "cell_type": "markdown",
   "metadata": {},
   "source": [
    "** Given the variables:**\n",
    "\n",
    "    planet = \"Earth\"\n",
    "    diameter = 12742\n",
    "\n",
    "** Use .format() to print the following string: **\n",
    "\n",
    "    The diameter of Earth is 12742 kilometers."
   ]
  },
  {
   "cell_type": "code",
   "execution_count": 15,
   "metadata": {},
   "outputs": [
    {
     "name": "stdout",
     "output_type": "stream",
     "text": [
      "The diameter of Earth is 12742 kilometers\n"
     ]
    }
   ],
   "source": [
    "planet='Earth'\n",
    "diameter=12742\n",
    "print('The diameter of {} is {} kilometers'.format(planet,diameter))\n"
   ]
  },
  {
   "cell_type": "code",
   "execution_count": null,
   "metadata": {
    "collapsed": true
   },
   "outputs": [],
   "source": []
  },
  {
   "cell_type": "markdown",
   "metadata": {},
   "source": [
    "** Given this nested list, use indexing to grab the word \"hello\" **"
   ]
  },
  {
   "cell_type": "code",
   "execution_count": 16,
   "metadata": {
    "collapsed": true
   },
   "outputs": [],
   "source": [
    "lst = [1,2,[3,4],[5,[100,200,['hello']],23,11],1,7]"
   ]
  },
  {
   "cell_type": "code",
   "execution_count": 21,
   "metadata": {},
   "outputs": [
    {
     "name": "stdout",
     "output_type": "stream",
     "text": [
      "['hello']\n"
     ]
    }
   ],
   "source": [
    "x=lst[3] #we take the 4th element in the list and assign it to another variable then take the second then third till we reach hello\n",
    "y=x[1]\n",
    "z=y[2]\n",
    "print(z)"
   ]
  },
  {
   "cell_type": "markdown",
   "metadata": {},
   "source": [
    "** Given this nested dictionary grab the word \"hello\". Be prepared, this will be annoying/tricky **"
   ]
  },
  {
   "cell_type": "code",
   "execution_count": 39,
   "metadata": {
    "collapsed": true
   },
   "outputs": [],
   "source": [
    "d = {'k1':[1,2,3,{'tricky':['oh','man','inception',{'target':[1,2,3,'hello']}]}]}"
   ]
  },
  {
   "cell_type": "code",
   "execution_count": 156,
   "metadata": {},
   "outputs": [
    {
     "name": "stdout",
     "output_type": "stream",
     "text": [
      "hello\n"
     ]
    }
   ],
   "source": [
    "k=list(d.values()) # first we take the values of dict and change dat tpe to list to index it\n",
    "l=k[0] #then we hava alist in the list si we take the inner one \n",
    "m=l[3] #and then we take the third member which contains hello and repeat the process to reach hello\n",
    "n=list(m.values())[0]\n",
    "o=n[3]\n",
    "p=list(o.values())[0]\n",
    "f=p[3]\n",
    "print(f)"
   ]
  },
  {
   "cell_type": "markdown",
   "metadata": {},
   "source": [
    "** What is the main difference between a tuple and a list? ** write comment to answer this question"
   ]
  },
  {
   "cell_type": "code",
   "execution_count": null,
   "metadata": {
    "collapsed": true
   },
   "outputs": [],
   "source": [
    "# the data in the list can be midified deleted and you can add more data while in tubles you cannot delete or insert on its data"
   ]
  },
  {
   "cell_type": "markdown",
   "metadata": {},
   "source": [
    "### Write a Python program to swap two variables."
   ]
  },
  {
   "cell_type": "code",
   "execution_count": null,
   "metadata": {
    "collapsed": true
   },
   "outputs": [],
   "source": [
    "var1='ahmed' #the first two lines is initiaition for the two variables and now we need to swap them\n",
    "var2='ali'\n",
    "temp=var1 # now we create temprory variable to take the data of one of the 2 variables in order to save it\n",
    "var1=var2 #and then we take the data from the second var and assign it two the first one so both now have the same value\n",
    "var2=temp #then we take the saved data from the temp and assign it to the first variable and the swap is done"
   ]
  },
  {
   "cell_type": "markdown",
   "metadata": {},
   "source": [
    "### Write a function to count the number 4 in a given list.\n",
    "\n"
   ]
  },
  {
   "cell_type": "code",
   "execution_count": 34,
   "metadata": {
    "collapsed": true
   },
   "outputs": [],
   "source": [
    "def count(data2):\n",
    "    i=0\n",
    "    counter=0\n",
    "    while(i<len(data2)): # we loop on the lest and check each element if its equal to 4 or not and if so we increment acounter\n",
    "        if(data2[i]==4):\n",
    "            counter+=1\n",
    "        i+=1\n",
    "    return counter\n"
   ]
  },
  {
   "cell_type": "markdown",
   "metadata": {},
   "source": [
    "### write a  function to check whether a number is divisible by another number."
   ]
  },
  {
   "cell_type": "code",
   "execution_count": 27,
   "metadata": {
    "collapsed": true
   },
   "outputs": [],
   "source": [
    "def check_divisible(num1,num2):\n",
    "    try:\n",
    "        if(num1%num2 == 0):\n",
    "            print('divisible') # we check the reminder if its equal to zero then the 1st number is divisible on the 2nd\n",
    "        else:\n",
    "            print('not divisible')\n",
    "    except:\n",
    "        print('error')"
   ]
  },
  {
   "cell_type": "markdown",
   "metadata": {},
   "source": [
    "### function to find the maximum and minimum numbers from a sequence of numbers."
   ]
  },
  {
   "cell_type": "code",
   "execution_count": 60,
   "metadata": {
    "collapsed": true
   },
   "outputs": [],
   "source": [
    "def find_max_min(data):\n",
    "    i=0\n",
    "    max=data[0]\n",
    "    min=data[0] # we take the first element as the max and the min as well\n",
    "    for x3 in data:\n",
    "        if max<x3: # then we start comparing with all elements and sqaping values according to tha max and min\n",
    "            max=x3\n",
    "        if min>x3:\n",
    "            min=x3\n",
    "    print('max={}'.format(max))\n",
    "    print('min={}'.format(min))\n",
    "    "
   ]
  },
  {
   "cell_type": "code",
   "execution_count": 62,
   "metadata": {},
   "outputs": [
    {
     "name": "stdout",
     "output_type": "stream",
     "text": [
      "max=40\n",
      "min=1\n"
     ]
    }
   ],
   "source": [
    "data=[2,4,1,40,7]\n",
    "find_max_min(data)"
   ]
  },
  {
   "cell_type": "markdown",
   "metadata": {},
   "source": [
    "### Write a Python function that takes two lists and returns True if they have at least one common member."
   ]
  },
  {
   "cell_type": "code",
   "execution_count": 56,
   "metadata": {
    "collapsed": true
   },
   "outputs": [],
   "source": [
    "def check(list1,list2):\n",
    "    for x2 in list1: # we take the first value from the first loop then we compare it with all elements in the second list by the second loop\n",
    "        for x3 in list2: #nad then we change the value if we found the number will return true\n",
    "            if x2==x3:\n",
    "                return True\n",
    "   \n",
    "    return False"
   ]
  },
  {
   "cell_type": "code",
   "execution_count": 58,
   "metadata": {},
   "outputs": [
    {
     "data": {
      "text/plain": [
       "False"
      ]
     },
     "execution_count": 58,
     "metadata": {},
     "output_type": "execute_result"
    }
   ],
   "source": [
    "list1=[1,2,3,4,5]\n",
    "list2=[6,7,8,9]\n",
    "check(list1,list2)"
   ]
  },
  {
   "cell_type": "markdown",
   "metadata": {},
   "source": [
    "** Create a basic function that returns True if the word 'dog' is contained in the input string. Don't worry about edge cases like a punctuation being attached to the word dog, but do account for capitalization. **"
   ]
  },
  {
   "cell_type": "code",
   "execution_count": 140,
   "metadata": {
    "collapsed": true
   },
   "outputs": [],
   "source": [
    "def find_dog(sentence):\n",
    "    v='dog' \n",
    "    if v in sentence: #assign dog to asentence and check if its in the input or not\n",
    "        return True\n",
    "    else:\n",
    "        return False"
   ]
  },
  {
   "cell_type": "code",
   "execution_count": 139,
   "metadata": {},
   "outputs": [
    {
     "data": {
      "text/plain": [
       "True"
      ]
     },
     "execution_count": 139,
     "metadata": {},
     "output_type": "execute_result"
    }
   ],
   "source": [
    "sen=\" we have a dog \"\n",
    "find_dog(sen)"
   ]
  },
  {
   "cell_type": "markdown",
   "metadata": {},
   "source": [
    "### Create a function that counts the number of times the word \"dog\" occurs in a string.  \n",
    "\n",
    "### BOUNUS."
   ]
  },
  {
   "cell_type": "code",
   "execution_count": null,
   "metadata": {
    "collapsed": true
   },
   "outputs": [],
   "source": [
    "def bonus(dataa):\n",
    "    counter=0 # split the string into words and then chech by if how many dog by looping on the list\n",
    "    i=0\n",
    "    k=dataa.split()\n",
    "    while(i<len(k)):\n",
    "        if k[i]=='dog':\n",
    "            counter+=1\n",
    "    return counter"
   ]
  },
  {
   "cell_type": "code",
   "execution_count": null,
   "metadata": {
    "collapsed": true
   },
   "outputs": [],
   "source": [
    "sen=\" we have a dog \"\n",
    "bonus(sen)"
   ]
  },
  {
   "cell_type": "markdown",
   "metadata": {},
   "source": [
    "### Write a Python function to calculate the factorial of a number (a non-negative integer). The function accepts the number from the user"
   ]
  },
  {
   "cell_type": "code",
   "execution_count": 81,
   "metadata": {},
   "outputs": [
    {
     "name": "stdout",
     "output_type": "stream",
     "text": [
      "enter the number-1\n"
     ]
    },
    {
     "data": {
      "text/plain": [
       "'error'"
      ]
     },
     "execution_count": 81,
     "metadata": {},
     "output_type": "execute_result"
    }
   ],
   "source": [
    "def factorial():\n",
    "    try:\n",
    "        num2=int(input('enter the number'))\n",
    "        if num2<0: # checking that the number must be positive\n",
    "            return'error'\n",
    "        if num2==1 or num2==0: #if the number equal one or zero the answer will be one\n",
    "            return 1\n",
    "        else: \n",
    "            answer=1\n",
    "            while(num2>1): #else we decrement the counter and multiply it with its previous value till we reach one\n",
    "                answer*=num2\n",
    "                \n",
    "                num2-=1\n",
    "            return answer\n",
    "    except:\n",
    "        print('error')\n",
    "factorial()\n",
    "                "
   ]
  },
  {
   "cell_type": "markdown",
   "metadata": {},
   "source": [
    "### Write a Python function to check whether a number is in a given range.\n",
    "\n",
    "### The range is from 3 to 11\n",
    "\n"
   ]
  },
  {
   "cell_type": "code",
   "execution_count": 85,
   "metadata": {},
   "outputs": [
    {
     "name": "stdout",
     "output_type": "stream",
     "text": [
      "enter the number12\n"
     ]
    },
    {
     "data": {
      "text/plain": [
       "'no'"
      ]
     },
     "execution_count": 85,
     "metadata": {},
     "output_type": "execute_result"
    }
   ],
   "source": [
    "def range():\n",
    "    try:\n",
    "        num3=int(input('enter the number'))\n",
    "        if num3<3:\n",
    "            return 'no'\n",
    "        elif num3>11: # asking whither thenumber is less or more than the range ans in both print no and if not print yes\n",
    "            return 'no'\n",
    "        else:\n",
    "            return 'yes'\n",
    "    except:\n",
    "        print('error')\n",
    "range()"
   ]
  },
  {
   "cell_type": "markdown",
   "metadata": {},
   "source": [
    "### Write a  program to create the multiplication table (from 1 to 10) of a number."
   ]
  },
  {
   "cell_type": "code",
   "execution_count": 90,
   "metadata": {},
   "outputs": [
    {
     "name": "stdout",
     "output_type": "stream",
     "text": [
      "enter the number2\n",
      "[2, 4, 6, 8, 10, 12, 14, 16, 18, 20]\n"
     ]
    }
   ],
   "source": [
    "\n",
    "num4=int(input('enter the number'))\n",
    "g=[num4]\n",
    "i=2 # put the nymber in a list because the first time it will be multiplied by 1\n",
    "while(i<=10):\n",
    "    g.append(num4*i) # make aloop that increments acoynter which each time miltoplied by the number and appended to the list\n",
    "    i+=1\n",
    "print(g)\n"
   ]
  },
  {
   "cell_type": "markdown",
   "metadata": {},
   "source": [
    "### Final Problem\n",
    "**You are driving a little too fast, and a police officer stops you. Write a function\n",
    "  to return one of 3 possible results: \"No ticket\", \"Small ticket\", or \"Big Ticket\". \n",
    "  If your speed is 60 or less, the result is \"No Ticket\". If speed is between 61 \n",
    "  and 80 inclusive, the result is \"Small Ticket\". If speed is 81 or more, the result is \"Big    Ticket\". Unless it is your birthday (encoded as a boolean value in the parameters of the function) -- on your birthday, your speed can be 5 higher in all \n",
    "  cases. **"
   ]
  },
  {
   "cell_type": "code",
   "execution_count": 141,
   "metadata": {
    "collapsed": true
   },
   "outputs": [],
   "source": [
    "def final_problem():\n",
    "    try:\n",
    "        arg1=int(input('enter the speed value'))\n",
    "        arg2=input('is today is your birthday(True/False)')\n",
    "        \n",
    "        if arg2=='False': # taking from the user the speeed and if his birth day is today or not\n",
    "            tol=0\n",
    "        elif arg2=='True': # making avar named tol if his birthday will assigned to 5 if not will be zero\n",
    "            tol=5\n",
    "         #comparing the speed with the margains given and subtracting the tol from the speed to take into consideration his birthday\n",
    "        if arg1-tol <=60: \n",
    "            print('No ticket')\n",
    "        elif arg1-tol <=80:\n",
    "            print('Small ticket')\n",
    "        elif arg1-tol >81:\n",
    "            print('Big ticket')\n",
    "    except:\n",
    "        print('error')\n",
    "        \n",
    "        "
   ]
  },
  {
   "cell_type": "code",
   "execution_count": 142,
   "metadata": {},
   "outputs": [
    {
     "name": "stdout",
     "output_type": "stream",
     "text": [
      "enter the speed value85\n",
      "is today is your birthday(True/False)True\n",
      "Small ticket\n"
     ]
    }
   ],
   "source": [
    "final_problem()"
   ]
  },
  {
   "cell_type": "code",
   "execution_count": null,
   "metadata": {
    "collapsed": true
   },
   "outputs": [],
   "source": []
  },
  {
   "cell_type": "markdown",
   "metadata": {},
   "source": [
    "# Great luck!"
   ]
  }
 ],
 "metadata": {
  "kernelspec": {
   "display_name": "Python 3",
   "language": "python",
   "name": "python3"
  },
  "language_info": {
   "codemirror_mode": {
    "name": "ipython",
    "version": 3
   },
   "file_extension": ".py",
   "mimetype": "text/x-python",
   "name": "python",
   "nbconvert_exporter": "python",
   "pygments_lexer": "ipython3",
   "version": "3.6.1"
  }
 },
 "nbformat": 4,
 "nbformat_minor": 1
}
