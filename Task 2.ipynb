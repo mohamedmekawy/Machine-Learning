{
 "cells": [
  {
   "cell_type": "code",
   "execution_count": null,
   "metadata": {
    "collapsed": true
   },
   "outputs": [],
   "source": [
    "# Mohamed Mostafa Mekawy\n",
    "try:\n",
    "    result=0\n",
    "    x = [int(a) for a in input('enter the list elements seperated by spaces').split()]\n",
    "    operator=input(\"enter the operation\")  \n",
    "    if operator is '+':\n",
    "        result=result+b for b in x\n",
    "    elif operator is '-':\n",
    "        result=result-b for b in x\n",
    "    elif operator is '*':\n",
    "        result=result*b for b in x  \n",
    "    print('result=')\n",
    "        \n",
    "   "
   ]
  }
 ],
 "metadata": {
  "kernelspec": {
   "display_name": "Python 3",
   "language": "python",
   "name": "python3"
  },
  "language_info": {
   "codemirror_mode": {
    "name": "ipython",
    "version": 3
   },
   "file_extension": ".py",
   "mimetype": "text/x-python",
   "name": "python",
   "nbconvert_exporter": "python",
   "pygments_lexer": "ipython3",
   "version": "3.6.1"
  }
 },
 "nbformat": 4,
 "nbformat_minor": 2
}
