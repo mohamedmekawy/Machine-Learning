{
 "cells": [
  {
   "cell_type": "code",
   "execution_count": 7,
   "metadata": {},
   "outputs": [
    {
     "name": "stdout",
     "output_type": "stream",
     "text": [
      "Enter the first coeff12\n",
      "Enter the second coeff9\n",
      "Enter the third coeff89\n",
      "root1=-0.375\n",
      "+2.697413884939919i\n",
      "root2=-0.375\n",
      "-2.697413884939919i\n"
     ]
    }
   ],
   "source": [
    "# name: Mohamed Mostafa Mekawy\n",
    "#first task\n",
    "a=int(input('Enter the first coeff' ))\n",
    "b=int(input('Enter the second coeff' ))\n",
    "c=int(input('Enter the third coeff' ))\n",
    "test=b**2-(4*a*c)\n",
    "if test>0:   # checking whether the roots are complex or real\n",
    "    root1=(-b+(test**0.5))/(2*a) # if real we should take the root and compute the answer by the formula\n",
    "    root2=(-b-(test**0.5))/(2*a) # with respect to the two signs \n",
    "    print('root1={}'.format(root1))\n",
    "    print('root2={}'.format(root2))\n",
    "else:\n",
    "    real=(-b)/(2*a) # if complex we should compute the real part and the iamginary part each on its own\n",
    "    imaginary=((-1*test)**0.5)/(2*a) \n",
    "    print('root1={}'.format(real,end = '')) # and then we print the complex number acoording to its format\n",
    "    print('+',end = '') #the real then positive or negative sign and then the imaginary  followed by the i sign\n",
    "    print(imaginary,end='')\n",
    "    print('i')\n",
    "    print('root2={}'.format(real,end = ''))\n",
    "    print('-',end = '')\n",
    "    print(imaginary,end='')\n",
    "    print('i')"
   ]
  },
  {
   "cell_type": "code",
   "execution_count": null,
   "metadata": {
    "collapsed": true
   },
   "outputs": [],
   "source": [
    "# the project done in the second session (the grade)\n",
    "x=int(input('Enter your grade')) #in this code we ask whether the grade is within a certain range and if so we print the\n",
    "if x in range(85,101):           # corresponding grade\n",
    "    print('your grade is A')\n",
    "elif x in range(75,85):\n",
    "    print('your grade is B')\n",
    "elif x in range(65,75):\n",
    "    print('your grade is C')\n",
    "else:\n",
    "    print('your grade is D')"
   ]
  },
  {
   "cell_type": "code",
   "execution_count": null,
   "metadata": {
    "collapsed": true
   },
   "outputs": [],
   "source": [
    "# detecting the max number\n",
    "x=input('type the first number')\n",
    "for char in x:  #this loop searches if the user entered a character and if so types an error and terminates the program\n",
    "    if(char.isalpha()):\n",
    "        print('error')\n",
    "        sys.exit()\n",
    "        \n",
    "y=(input('type the second number'))\n",
    "for char in y:\n",
    "    if(char.isalpha()):\n",
    "        print('error')\n",
    "        sys.exit()\n",
    "        \n",
    "z=(input('type the third number'))\n",
    "for char in z:\n",
    "    if(char.isalpha()):\n",
    "        print('error')\n",
    "        sys.exit()\n",
    "x=int(x)\n",
    "y=int(y) # then type casting to int\n",
    "z=int(z)\n",
    "        \n",
    "if x>=y and x>=z: #camparing to find the max number and then prints it\n",
    "    print('the max={}'.format(x))\n",
    "elif y>=x and y>=z:\n",
    "    print('the max={}'.format(y))\n",
    "elif z>=x and z>=y:\n",
    "    print('the max={}'.format(z))"
   ]
  }
 ],
 "metadata": {
  "kernelspec": {
   "display_name": "Python 3",
   "language": "python",
   "name": "python3"
  },
  "language_info": {
   "codemirror_mode": {
    "name": "ipython",
    "version": 3
   },
   "file_extension": ".py",
   "mimetype": "text/x-python",
   "name": "python",
   "nbconvert_exporter": "python",
   "pygments_lexer": "ipython3",
   "version": "3.6.1"
  }
 },
 "nbformat": 4,
 "nbformat_minor": 2
}
