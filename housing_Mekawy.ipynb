{
  "nbformat": 4,
  "nbformat_minor": 0,
  "metadata": {
    "colab": {
      "name": "housing Mekawy.ipynb",
      "provenance": []
    },
    "kernelspec": {
      "name": "python3",
      "display_name": "Python 3"
    }
  },
  "cells": [
    {
      "cell_type": "code",
      "metadata": {
        "id": "xTEMj8Y3s1xd",
        "colab_type": "code",
        "outputId": "d8957ebf-11bc-4425-cca6-cc9c0e2cc0b3",
        "colab": {
          "resources": {
            "http://localhost:8080/nbextensions/google.colab/files.js": {
              "data": "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",
              "ok": true,
              "headers": [
                [
                  "content-type",
                  "application/javascript"
                ]
              ],
              "status": 200,
              "status_text": ""
            }
          },
          "base_uri": "https://localhost:8080/",
          "height": 74
        }
      },
      "source": [
        "from google.colab import files\n",
        "uploaded = files.upload()"
      ],
      "execution_count": 12,
      "outputs": [
        {
          "output_type": "display_data",
          "data": {
            "text/html": [
              "\n",
              "     <input type=\"file\" id=\"files-12774dfa-67a9-422d-a788-5c9c69e0dd72\" name=\"files[]\" multiple disabled />\n",
              "     <output id=\"result-12774dfa-67a9-422d-a788-5c9c69e0dd72\">\n",
              "      Upload widget is only available when the cell has been executed in the\n",
              "      current browser session. Please rerun this cell to enable.\n",
              "      </output>\n",
              "      <script src=\"/nbextensions/google.colab/files.js\"></script> "
            ],
            "text/plain": [
              "<IPython.core.display.HTML object>"
            ]
          },
          "metadata": {
            "tags": []
          }
        },
        {
          "output_type": "stream",
          "text": [
            "Saving housingdata.csv to housingdata.csv\n"
          ],
          "name": "stdout"
        }
      ]
    },
    {
      "cell_type": "code",
      "metadata": {
        "id": "rjiwgJAmtNql",
        "colab_type": "code",
        "colab": {}
      },
      "source": [
        "import numpy as np\n",
        "import matplotlib.pyplot as plt\n",
        "import pandas as pd\n"
      ],
      "execution_count": 0,
      "outputs": []
    },
    {
      "cell_type": "code",
      "metadata": {
        "id": "wWfy9wN1JHsB",
        "colab_type": "code",
        "colab": {
          "base_uri": "https://localhost:8080/",
          "height": 204
        },
        "outputId": "444e3adb-a782-4a59-fb7e-fc0ed86e3a03"
      },
      "source": [
        "dataset = pd.read_csv('housingdata.csv')\n",
        "X= dataset.iloc[:, 0:13].values\n",
        "y = dataset.iloc[:, 13].values\n",
        "dataset.head()"
      ],
      "execution_count": 16,
      "outputs": [
        {
          "output_type": "execute_result",
          "data": {
            "text/html": [
              "<div>\n",
              "<style scoped>\n",
              "    .dataframe tbody tr th:only-of-type {\n",
              "        vertical-align: middle;\n",
              "    }\n",
              "\n",
              "    .dataframe tbody tr th {\n",
              "        vertical-align: top;\n",
              "    }\n",
              "\n",
              "    .dataframe thead th {\n",
              "        text-align: right;\n",
              "    }\n",
              "</style>\n",
              "<table border=\"1\" class=\"dataframe\">\n",
              "  <thead>\n",
              "    <tr style=\"text-align: right;\">\n",
              "      <th></th>\n",
              "      <th>0.00632</th>\n",
              "      <th>18</th>\n",
              "      <th>2.31</th>\n",
              "      <th>0</th>\n",
              "      <th>0.538</th>\n",
              "      <th>6.575</th>\n",
              "      <th>65.2</th>\n",
              "      <th>4.09</th>\n",
              "      <th>1</th>\n",
              "      <th>296</th>\n",
              "      <th>15.3</th>\n",
              "      <th>396.9</th>\n",
              "      <th>4.98</th>\n",
              "      <th>24</th>\n",
              "    </tr>\n",
              "  </thead>\n",
              "  <tbody>\n",
              "    <tr>\n",
              "      <th>0</th>\n",
              "      <td>0.02731</td>\n",
              "      <td>0.0</td>\n",
              "      <td>7.07</td>\n",
              "      <td>0</td>\n",
              "      <td>0.469</td>\n",
              "      <td>6.421</td>\n",
              "      <td>78.9</td>\n",
              "      <td>4.9671</td>\n",
              "      <td>2</td>\n",
              "      <td>242</td>\n",
              "      <td>17.8</td>\n",
              "      <td>396.90</td>\n",
              "      <td>9.14</td>\n",
              "      <td>21.6</td>\n",
              "    </tr>\n",
              "    <tr>\n",
              "      <th>1</th>\n",
              "      <td>0.02729</td>\n",
              "      <td>0.0</td>\n",
              "      <td>7.07</td>\n",
              "      <td>0</td>\n",
              "      <td>0.469</td>\n",
              "      <td>7.185</td>\n",
              "      <td>61.1</td>\n",
              "      <td>4.9671</td>\n",
              "      <td>2</td>\n",
              "      <td>242</td>\n",
              "      <td>17.8</td>\n",
              "      <td>392.83</td>\n",
              "      <td>4.03</td>\n",
              "      <td>34.7</td>\n",
              "    </tr>\n",
              "    <tr>\n",
              "      <th>2</th>\n",
              "      <td>0.03237</td>\n",
              "      <td>0.0</td>\n",
              "      <td>2.18</td>\n",
              "      <td>0</td>\n",
              "      <td>0.458</td>\n",
              "      <td>6.998</td>\n",
              "      <td>45.8</td>\n",
              "      <td>6.0622</td>\n",
              "      <td>3</td>\n",
              "      <td>222</td>\n",
              "      <td>18.7</td>\n",
              "      <td>394.63</td>\n",
              "      <td>2.94</td>\n",
              "      <td>33.4</td>\n",
              "    </tr>\n",
              "    <tr>\n",
              "      <th>3</th>\n",
              "      <td>0.06905</td>\n",
              "      <td>0.0</td>\n",
              "      <td>2.18</td>\n",
              "      <td>0</td>\n",
              "      <td>0.458</td>\n",
              "      <td>7.147</td>\n",
              "      <td>54.2</td>\n",
              "      <td>6.0622</td>\n",
              "      <td>3</td>\n",
              "      <td>222</td>\n",
              "      <td>18.7</td>\n",
              "      <td>396.90</td>\n",
              "      <td>5.33</td>\n",
              "      <td>36.2</td>\n",
              "    </tr>\n",
              "    <tr>\n",
              "      <th>4</th>\n",
              "      <td>0.02985</td>\n",
              "      <td>0.0</td>\n",
              "      <td>2.18</td>\n",
              "      <td>0</td>\n",
              "      <td>0.458</td>\n",
              "      <td>6.430</td>\n",
              "      <td>58.7</td>\n",
              "      <td>6.0622</td>\n",
              "      <td>3</td>\n",
              "      <td>222</td>\n",
              "      <td>18.7</td>\n",
              "      <td>394.12</td>\n",
              "      <td>5.21</td>\n",
              "      <td>28.7</td>\n",
              "    </tr>\n",
              "  </tbody>\n",
              "</table>\n",
              "</div>"
            ],
            "text/plain": [
              "   0.00632   18  2.31  0  0.538  6.575  ...  1  296  15.3   396.9  4.98    24\n",
              "0  0.02731  0.0  7.07  0  0.469  6.421  ...  2  242  17.8  396.90  9.14  21.6\n",
              "1  0.02729  0.0  7.07  0  0.469  7.185  ...  2  242  17.8  392.83  4.03  34.7\n",
              "2  0.03237  0.0  2.18  0  0.458  6.998  ...  3  222  18.7  394.63  2.94  33.4\n",
              "3  0.06905  0.0  2.18  0  0.458  7.147  ...  3  222  18.7  396.90  5.33  36.2\n",
              "4  0.02985  0.0  2.18  0  0.458  6.430  ...  3  222  18.7  394.12  5.21  28.7\n",
              "\n",
              "[5 rows x 14 columns]"
            ]
          },
          "metadata": {
            "tags": []
          },
          "execution_count": 16
        }
      ]
    },
    {
      "cell_type": "code",
      "metadata": {
        "id": "e4LlizF2JJNp",
        "colab_type": "code",
        "colab": {}
      },
      "source": [
        "# Encoding categorical data\n",
        "#from sklearn.preprocessing import LabelEncoder, OneHotEncoder\n",
        "#labelencoder_X_1 = LabelEncoder()\n",
        "#X[:, 1] = labelencoder_X_1.fit_transform(X[:, 1])\n",
        "#labelencoder_X_2 = LabelEncoder()\n",
        "#X[:, 2] = labelencoder_X_2.fit_transform(X[:, 2])\n",
        "#onehotencoder = OneHotEncoder(categorical_features = [1])\n",
        "#X = onehotencoder.fit_transform(X).toarray()\n",
        "#X = X[:, 1:]\n",
        "\n",
        "# Splitting the dataset into the Training set and Test set\n",
        "from sklearn.model_selection import train_test_split\n",
        "X_train, X_test, y_train, y_test = train_test_split(X, y, test_size = 0.2, random_state = 0)\n",
        "\n",
        "# Feature Scaling\n",
        "from sklearn.preprocessing import StandardScaler\n",
        "sc = StandardScaler()\n",
        "X_train = sc.fit_transform(X_train)\n",
        "X_test = sc.transform(X_test)\n"
      ],
      "execution_count": 0,
      "outputs": []
    },
    {
      "cell_type": "code",
      "metadata": {
        "id": "1wIgQobXJMVc",
        "colab_type": "code",
        "outputId": "cc91b6d9-0792-446d-d000-228ca09ecbf6",
        "colab": {
          "base_uri": "https://localhost:8080/",
          "height": 34
        }
      },
      "source": [
        "# Importing the Keras libraries and packages\n",
        "import keras\n",
        "from keras.models import Sequential\n",
        "from keras.layers import Dense\n",
        "\n",
        "\n"
      ],
      "execution_count": 18,
      "outputs": [
        {
          "output_type": "stream",
          "text": [
            "Using TensorFlow backend.\n"
          ],
          "name": "stderr"
        }
      ]
    },
    {
      "cell_type": "code",
      "metadata": {
        "id": "c4ge7BBwJR7P",
        "colab_type": "code",
        "colab": {}
      },
      "source": [
        "# Initialising the ANN\n",
        "classifier = Sequential()\n",
        "\n",
        "# Adding the input layer and the first hidden layer\n",
        "classifier.add(Dense(units = 7, kernel_initializer = 'normal', activation = 'relu', input_dim = 13))\n",
        "\n",
        "# Adding the second hidden layer\n",
        "classifier.add(Dense(units = 7, kernel_initializer = 'normal', activation = 'relu'))\n",
        "\n",
        "# Adding the output layer\n",
        "classifier.add(Dense(units = 1, kernel_initializer = 'normal', activation = 'linear'))\n",
        "\n",
        "# Compiling the ANN\n",
        "classifier.compile(optimizer = 'adam', loss = 'mean_squared_error', metrics = ['mean_squared_error'])\n",
        "\n"
      ],
      "execution_count": 0,
      "outputs": []
    },
    {
      "cell_type": "code",
      "metadata": {
        "id": "F0nLPMxgJaYG",
        "colab_type": "code",
        "outputId": "b695e26f-7282-417e-abb3-443015518926",
        "colab": {
          "base_uri": "https://localhost:8080/",
          "height": 1000
        }
      },
      "source": [
        "# Fitting the ANN to the Training set\n",
        "classifier.fit(X_train, y_train, batch_size = 10, epochs = 100)"
      ],
      "execution_count": 22,
      "outputs": [
        {
          "output_type": "stream",
          "text": [
            "WARNING:tensorflow:From /usr/local/lib/python3.6/dist-packages/keras/backend/tensorflow_backend.py:1033: The name tf.assign_add is deprecated. Please use tf.compat.v1.assign_add instead.\n",
            "\n",
            "WARNING:tensorflow:From /usr/local/lib/python3.6/dist-packages/keras/backend/tensorflow_backend.py:1020: The name tf.assign is deprecated. Please use tf.compat.v1.assign instead.\n",
            "\n",
            "Epoch 1/100\n",
            "404/404 [==============================] - 1s 2ms/step - loss: 599.0008 - mean_squared_error: 599.0008\n",
            "Epoch 2/100\n",
            "404/404 [==============================] - 0s 105us/step - loss: 590.5475 - mean_squared_error: 590.5475\n",
            "Epoch 3/100\n",
            "404/404 [==============================] - 0s 101us/step - loss: 561.8736 - mean_squared_error: 561.8736\n",
            "Epoch 4/100\n",
            "404/404 [==============================] - 0s 97us/step - loss: 493.9864 - mean_squared_error: 493.9864\n",
            "Epoch 5/100\n",
            "404/404 [==============================] - 0s 102us/step - loss: 379.7345 - mean_squared_error: 379.7345\n",
            "Epoch 6/100\n",
            "404/404 [==============================] - 0s 124us/step - loss: 252.8186 - mean_squared_error: 252.8186\n",
            "Epoch 7/100\n",
            "404/404 [==============================] - 0s 108us/step - loss: 164.9477 - mean_squared_error: 164.9477\n",
            "Epoch 8/100\n",
            "404/404 [==============================] - 0s 107us/step - loss: 121.5432 - mean_squared_error: 121.5432\n",
            "Epoch 9/100\n",
            "404/404 [==============================] - 0s 107us/step - loss: 96.9068 - mean_squared_error: 96.9068\n",
            "Epoch 10/100\n",
            "404/404 [==============================] - 0s 111us/step - loss: 78.5849 - mean_squared_error: 78.5849\n",
            "Epoch 11/100\n",
            "404/404 [==============================] - 0s 109us/step - loss: 64.6272 - mean_squared_error: 64.6272\n",
            "Epoch 12/100\n",
            "404/404 [==============================] - 0s 104us/step - loss: 54.9200 - mean_squared_error: 54.9200\n",
            "Epoch 13/100\n",
            "404/404 [==============================] - 0s 125us/step - loss: 48.4398 - mean_squared_error: 48.4398\n",
            "Epoch 14/100\n",
            "404/404 [==============================] - 0s 110us/step - loss: 44.0292 - mean_squared_error: 44.0292\n",
            "Epoch 15/100\n",
            "404/404 [==============================] - 0s 98us/step - loss: 41.2407 - mean_squared_error: 41.2407\n",
            "Epoch 16/100\n",
            "404/404 [==============================] - 0s 99us/step - loss: 39.0313 - mean_squared_error: 39.0313\n",
            "Epoch 17/100\n",
            "404/404 [==============================] - 0s 88us/step - loss: 37.7414 - mean_squared_error: 37.7414\n",
            "Epoch 18/100\n",
            "404/404 [==============================] - 0s 93us/step - loss: 36.7027 - mean_squared_error: 36.7027\n",
            "Epoch 19/100\n",
            "404/404 [==============================] - 0s 97us/step - loss: 35.8165 - mean_squared_error: 35.8165\n",
            "Epoch 20/100\n",
            "404/404 [==============================] - 0s 97us/step - loss: 34.8613 - mean_squared_error: 34.8613\n",
            "Epoch 21/100\n",
            "404/404 [==============================] - 0s 93us/step - loss: 34.0774 - mean_squared_error: 34.0774\n",
            "Epoch 22/100\n",
            "404/404 [==============================] - 0s 102us/step - loss: 33.3577 - mean_squared_error: 33.3577\n",
            "Epoch 23/100\n",
            "404/404 [==============================] - 0s 112us/step - loss: 32.6149 - mean_squared_error: 32.6149\n",
            "Epoch 24/100\n",
            "404/404 [==============================] - 0s 101us/step - loss: 31.9987 - mean_squared_error: 31.9987\n",
            "Epoch 25/100\n",
            "404/404 [==============================] - 0s 108us/step - loss: 31.5159 - mean_squared_error: 31.5159\n",
            "Epoch 26/100\n",
            "404/404 [==============================] - 0s 96us/step - loss: 30.9577 - mean_squared_error: 30.9577\n",
            "Epoch 27/100\n",
            "404/404 [==============================] - 0s 105us/step - loss: 30.4004 - mean_squared_error: 30.4004\n",
            "Epoch 28/100\n",
            "404/404 [==============================] - 0s 99us/step - loss: 29.8655 - mean_squared_error: 29.8655\n",
            "Epoch 29/100\n",
            "404/404 [==============================] - 0s 108us/step - loss: 29.3587 - mean_squared_error: 29.3587\n",
            "Epoch 30/100\n",
            "404/404 [==============================] - 0s 93us/step - loss: 29.0151 - mean_squared_error: 29.0151\n",
            "Epoch 31/100\n",
            "404/404 [==============================] - 0s 94us/step - loss: 28.4536 - mean_squared_error: 28.4536\n",
            "Epoch 32/100\n",
            "404/404 [==============================] - 0s 113us/step - loss: 28.0709 - mean_squared_error: 28.0709\n",
            "Epoch 33/100\n",
            "404/404 [==============================] - 0s 115us/step - loss: 27.6387 - mean_squared_error: 27.6387\n",
            "Epoch 34/100\n",
            "404/404 [==============================] - 0s 101us/step - loss: 27.3215 - mean_squared_error: 27.3215\n",
            "Epoch 35/100\n",
            "404/404 [==============================] - 0s 98us/step - loss: 26.7759 - mean_squared_error: 26.7759\n",
            "Epoch 36/100\n",
            "404/404 [==============================] - 0s 95us/step - loss: 26.3951 - mean_squared_error: 26.3951\n",
            "Epoch 37/100\n",
            "404/404 [==============================] - 0s 97us/step - loss: 26.0524 - mean_squared_error: 26.0524\n",
            "Epoch 38/100\n",
            "404/404 [==============================] - 0s 104us/step - loss: 25.5954 - mean_squared_error: 25.5954\n",
            "Epoch 39/100\n",
            "404/404 [==============================] - 0s 110us/step - loss: 25.2893 - mean_squared_error: 25.2893\n",
            "Epoch 40/100\n",
            "404/404 [==============================] - 0s 91us/step - loss: 24.9179 - mean_squared_error: 24.9179\n",
            "Epoch 41/100\n",
            "404/404 [==============================] - 0s 101us/step - loss: 24.5911 - mean_squared_error: 24.5911\n",
            "Epoch 42/100\n",
            "404/404 [==============================] - 0s 92us/step - loss: 24.2281 - mean_squared_error: 24.2281\n",
            "Epoch 43/100\n",
            "404/404 [==============================] - 0s 103us/step - loss: 23.8696 - mean_squared_error: 23.8696\n",
            "Epoch 44/100\n",
            "404/404 [==============================] - 0s 108us/step - loss: 23.5273 - mean_squared_error: 23.5273\n",
            "Epoch 45/100\n",
            "404/404 [==============================] - 0s 102us/step - loss: 23.1642 - mean_squared_error: 23.1642\n",
            "Epoch 46/100\n",
            "404/404 [==============================] - 0s 112us/step - loss: 22.8675 - mean_squared_error: 22.8675\n",
            "Epoch 47/100\n",
            "404/404 [==============================] - 0s 109us/step - loss: 22.6827 - mean_squared_error: 22.6827\n",
            "Epoch 48/100\n",
            "404/404 [==============================] - 0s 122us/step - loss: 22.3661 - mean_squared_error: 22.3661\n",
            "Epoch 49/100\n",
            "404/404 [==============================] - 0s 97us/step - loss: 22.0487 - mean_squared_error: 22.0487\n",
            "Epoch 50/100\n",
            "404/404 [==============================] - 0s 109us/step - loss: 21.7754 - mean_squared_error: 21.7754\n",
            "Epoch 51/100\n",
            "404/404 [==============================] - 0s 110us/step - loss: 21.5573 - mean_squared_error: 21.5573\n",
            "Epoch 52/100\n",
            "404/404 [==============================] - 0s 125us/step - loss: 21.2462 - mean_squared_error: 21.2462\n",
            "Epoch 53/100\n",
            "404/404 [==============================] - 0s 105us/step - loss: 20.9853 - mean_squared_error: 20.9853\n",
            "Epoch 54/100\n",
            "404/404 [==============================] - 0s 116us/step - loss: 20.8459 - mean_squared_error: 20.8459\n",
            "Epoch 55/100\n",
            "404/404 [==============================] - 0s 121us/step - loss: 20.5757 - mean_squared_error: 20.5757\n",
            "Epoch 56/100\n",
            "404/404 [==============================] - 0s 126us/step - loss: 20.3529 - mean_squared_error: 20.3529\n",
            "Epoch 57/100\n",
            "404/404 [==============================] - 0s 124us/step - loss: 20.1848 - mean_squared_error: 20.1848\n",
            "Epoch 58/100\n",
            "404/404 [==============================] - 0s 114us/step - loss: 19.9879 - mean_squared_error: 19.9879\n",
            "Epoch 59/100\n",
            "404/404 [==============================] - 0s 116us/step - loss: 19.7931 - mean_squared_error: 19.7931\n",
            "Epoch 60/100\n",
            "404/404 [==============================] - 0s 103us/step - loss: 19.5895 - mean_squared_error: 19.5895\n",
            "Epoch 61/100\n",
            "404/404 [==============================] - 0s 96us/step - loss: 19.4291 - mean_squared_error: 19.4291\n",
            "Epoch 62/100\n",
            "404/404 [==============================] - 0s 113us/step - loss: 19.2952 - mean_squared_error: 19.2952\n",
            "Epoch 63/100\n",
            "404/404 [==============================] - 0s 104us/step - loss: 19.1373 - mean_squared_error: 19.1373\n",
            "Epoch 64/100\n",
            "404/404 [==============================] - 0s 97us/step - loss: 19.1131 - mean_squared_error: 19.1131\n",
            "Epoch 65/100\n",
            "404/404 [==============================] - 0s 113us/step - loss: 18.9765 - mean_squared_error: 18.9765\n",
            "Epoch 66/100\n",
            "404/404 [==============================] - 0s 96us/step - loss: 18.8440 - mean_squared_error: 18.8440\n",
            "Epoch 67/100\n",
            "404/404 [==============================] - 0s 112us/step - loss: 18.4857 - mean_squared_error: 18.4857\n",
            "Epoch 68/100\n",
            "404/404 [==============================] - 0s 95us/step - loss: 18.5250 - mean_squared_error: 18.5250\n",
            "Epoch 69/100\n",
            "404/404 [==============================] - 0s 98us/step - loss: 18.3037 - mean_squared_error: 18.3037\n",
            "Epoch 70/100\n",
            "404/404 [==============================] - 0s 110us/step - loss: 18.4151 - mean_squared_error: 18.4151\n",
            "Epoch 71/100\n",
            "404/404 [==============================] - 0s 100us/step - loss: 18.0312 - mean_squared_error: 18.0312\n",
            "Epoch 72/100\n",
            "404/404 [==============================] - 0s 115us/step - loss: 17.9494 - mean_squared_error: 17.9494\n",
            "Epoch 73/100\n",
            "404/404 [==============================] - 0s 139us/step - loss: 17.7613 - mean_squared_error: 17.7613\n",
            "Epoch 74/100\n",
            "404/404 [==============================] - 0s 102us/step - loss: 17.7205 - mean_squared_error: 17.7205\n",
            "Epoch 75/100\n",
            "404/404 [==============================] - 0s 94us/step - loss: 17.5009 - mean_squared_error: 17.5009\n",
            "Epoch 76/100\n",
            "404/404 [==============================] - 0s 106us/step - loss: 17.4481 - mean_squared_error: 17.4481\n",
            "Epoch 77/100\n",
            "404/404 [==============================] - 0s 101us/step - loss: 17.2993 - mean_squared_error: 17.2993\n",
            "Epoch 78/100\n",
            "404/404 [==============================] - 0s 97us/step - loss: 17.1950 - mean_squared_error: 17.1950\n",
            "Epoch 79/100\n",
            "404/404 [==============================] - 0s 103us/step - loss: 17.0521 - mean_squared_error: 17.0521\n",
            "Epoch 80/100\n",
            "404/404 [==============================] - 0s 101us/step - loss: 17.0566 - mean_squared_error: 17.0566\n",
            "Epoch 81/100\n",
            "404/404 [==============================] - 0s 106us/step - loss: 16.8211 - mean_squared_error: 16.8211\n",
            "Epoch 82/100\n",
            "404/404 [==============================] - 0s 110us/step - loss: 16.8323 - mean_squared_error: 16.8323\n",
            "Epoch 83/100\n",
            "404/404 [==============================] - 0s 117us/step - loss: 16.6669 - mean_squared_error: 16.6669\n",
            "Epoch 84/100\n",
            "404/404 [==============================] - 0s 98us/step - loss: 16.5568 - mean_squared_error: 16.5568\n",
            "Epoch 85/100\n",
            "404/404 [==============================] - 0s 97us/step - loss: 16.4770 - mean_squared_error: 16.4770\n",
            "Epoch 86/100\n",
            "404/404 [==============================] - 0s 94us/step - loss: 16.4192 - mean_squared_error: 16.4192\n",
            "Epoch 87/100\n",
            "404/404 [==============================] - 0s 106us/step - loss: 16.3003 - mean_squared_error: 16.3003\n",
            "Epoch 88/100\n",
            "404/404 [==============================] - 0s 103us/step - loss: 16.2272 - mean_squared_error: 16.2272\n",
            "Epoch 89/100\n",
            "404/404 [==============================] - 0s 106us/step - loss: 16.1253 - mean_squared_error: 16.1253\n",
            "Epoch 90/100\n",
            "404/404 [==============================] - 0s 104us/step - loss: 15.9673 - mean_squared_error: 15.9673\n",
            "Epoch 91/100\n",
            "404/404 [==============================] - 0s 100us/step - loss: 15.9431 - mean_squared_error: 15.9431\n",
            "Epoch 92/100\n",
            "404/404 [==============================] - 0s 93us/step - loss: 15.7933 - mean_squared_error: 15.7933\n",
            "Epoch 93/100\n",
            "404/404 [==============================] - 0s 99us/step - loss: 15.8403 - mean_squared_error: 15.8403\n",
            "Epoch 94/100\n",
            "404/404 [==============================] - 0s 103us/step - loss: 15.7434 - mean_squared_error: 15.7434\n",
            "Epoch 95/100\n",
            "404/404 [==============================] - 0s 109us/step - loss: 15.5855 - mean_squared_error: 15.5855\n",
            "Epoch 96/100\n",
            "404/404 [==============================] - 0s 105us/step - loss: 15.5408 - mean_squared_error: 15.5408\n",
            "Epoch 97/100\n",
            "404/404 [==============================] - 0s 101us/step - loss: 15.4641 - mean_squared_error: 15.4641\n",
            "Epoch 98/100\n",
            "404/404 [==============================] - 0s 102us/step - loss: 15.3734 - mean_squared_error: 15.3734\n",
            "Epoch 99/100\n",
            "404/404 [==============================] - 0s 103us/step - loss: 15.4809 - mean_squared_error: 15.4809\n",
            "Epoch 100/100\n",
            "404/404 [==============================] - 0s 110us/step - loss: 15.2785 - mean_squared_error: 15.2785\n"
          ],
          "name": "stdout"
        },
        {
          "output_type": "execute_result",
          "data": {
            "text/plain": [
              "<keras.callbacks.History at 0x7fa2b56c1eb8>"
            ]
          },
          "metadata": {
            "tags": []
          },
          "execution_count": 22
        }
      ]
    },
    {
      "cell_type": "code",
      "metadata": {
        "id": "BLnvLERUJdBN",
        "colab_type": "code",
        "colab": {}
      },
      "source": [
        "y_pred = classifier.predict(X_test)\n"
      ],
      "execution_count": 0,
      "outputs": []
    },
    {
      "cell_type": "code",
      "metadata": {
        "id": "OTSkaGrRJ7O3",
        "colab_type": "code",
        "colab": {}
      },
      "source": [
        "from sklearn.metrics import r2_score\n",
        "cm = r2_score(y_test, y_pred)"
      ],
      "execution_count": 0,
      "outputs": []
    },
    {
      "cell_type": "code",
      "metadata": {
        "id": "sVhRThiGKCx7",
        "colab_type": "code",
        "outputId": "94d7196e-b89d-44de-87b8-d692d6004aec",
        "colab": {
          "base_uri": "https://localhost:8080/",
          "height": 34
        }
      },
      "source": [
        "cm"
      ],
      "execution_count": 27,
      "outputs": [
        {
          "output_type": "execute_result",
          "data": {
            "text/plain": [
              "0.831209522561025"
            ]
          },
          "metadata": {
            "tags": []
          },
          "execution_count": 27
        }
      ]
    },
    {
      "cell_type": "code",
      "metadata": {
        "id": "pj_-HfkqKDrH",
        "colab_type": "code",
        "colab": {}
      },
      "source": [
        ""
      ],
      "execution_count": 0,
      "outputs": []
    },
    {
      "cell_type": "code",
      "metadata": {
        "id": "GdvG1iohKQvd",
        "colab_type": "code",
        "colab": {}
      },
      "source": [
        ""
      ],
      "execution_count": 0,
      "outputs": []
    }
  ]
}